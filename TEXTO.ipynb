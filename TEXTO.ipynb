{
  "cells": [
    {
      "cell_type": "markdown",
      "metadata": {
        "id": "fbOfvQRCiJaF"
      },
      "source": [
        "# Importar liberías"
      ]
    },
    {
      "cell_type": "code",
      "execution_count": 2,
      "metadata": {
        "colab": {
          "background_save": true
        },
        "id": "Ij14tLSwT5vK"
      },
      "outputs": [
        {
          "name": "stderr",
          "output_type": "stream",
          "text": [
            "2025-03-30 20:50:29.030962: E external/local_xla/xla/stream_executor/cuda/cuda_fft.cc:467] Unable to register cuFFT factory: Attempting to register factory for plugin cuFFT when one has already been registered\n",
            "WARNING: All log messages before absl::InitializeLog() is called are written to STDERR\n",
            "E0000 00:00:1743378629.041920   35009 cuda_dnn.cc:8579] Unable to register cuDNN factory: Attempting to register factory for plugin cuDNN when one has already been registered\n",
            "E0000 00:00:1743378629.045243   35009 cuda_blas.cc:1407] Unable to register cuBLAS factory: Attempting to register factory for plugin cuBLAS when one has already been registered\n",
            "W0000 00:00:1743378629.054560   35009 computation_placer.cc:177] computation placer already registered. Please check linkage and avoid linking the same target more than once.\n",
            "W0000 00:00:1743378629.054568   35009 computation_placer.cc:177] computation placer already registered. Please check linkage and avoid linking the same target more than once.\n",
            "W0000 00:00:1743378629.054569   35009 computation_placer.cc:177] computation placer already registered. Please check linkage and avoid linking the same target more than once.\n",
            "W0000 00:00:1743378629.054571   35009 computation_placer.cc:177] computation placer already registered. Please check linkage and avoid linking the same target more than once.\n",
            "2025-03-30 20:50:29.057796: I tensorflow/core/platform/cpu_feature_guard.cc:210] This TensorFlow binary is optimized to use available CPU instructions in performance-critical operations.\n",
            "To enable the following instructions: AVX2 FMA, in other operations, rebuild TensorFlow with the appropriate compiler flags.\n"
          ]
        }
      ],
      "source": [
        "import tensorflow as tf\n",
        "import tensorflow_datasets as tfds\n",
        "import matplotlib.pyplot as plt\n",
        "import numpy as np\n",
        "from collections import Counter\n",
        "import re\n",
        "import nltk\n",
        "from nltk.corpus import stopwords\n",
        "import os\n",
        "from wordcloud import WordCloud"
      ]
    },
    {
      "cell_type": "markdown",
      "metadata": {
        "id": "qILZQmWcWUIN"
      },
      "source": [
        "# Carga del dataset"
      ]
    },
    {
      "cell_type": "code",
      "execution_count": 3,
      "metadata": {
        "colab": {
          "background_save": true
        },
        "id": "H9oVzSkDiw62",
        "outputId": "871cd0a9-9430-490e-ebd0-2f554866f437"
      },
      "outputs": [
        {
          "name": "stderr",
          "output_type": "stream",
          "text": [
            "W0000 00:00:1743378630.888877   35009 gpu_device.cc:2341] Cannot dlopen some GPU libraries. Please make sure the missing libraries mentioned above are installed properly if you would like to use GPU. Follow the guide at https://www.tensorflow.org/install/gpu for how to download and setup the required libraries for your platform.\n",
            "Skipping registering GPU devices...\n"
          ]
        }
      ],
      "source": [
        "# Cargar el conjunto de datos 'ag_news_subset' de tensorflow_datasets\n",
        "ds, info = tfds.load('ag_news_subset', with_info=True, as_supervised=True)\n",
        "train_ds, test_ds = ds['train'], ds['test']"
      ]
    },
    {
      "cell_type": "markdown",
      "metadata": {
        "id": "QJ7ZnVJ1iRny"
      },
      "source": [
        "# Visualización de datos"
      ]
    },
    {
      "cell_type": "code",
      "execution_count": 4,
      "metadata": {},
      "outputs": [
        {
          "name": "stdout",
          "output_type": "stream",
          "text": [
            "Longitud del conjunto de entrenamiento: 120000\n",
            "Longitud del conjunto de prueba: 7600\n"
          ]
        }
      ],
      "source": [
        "# Obtener la longitud del dataset\n",
        "train_length = tf.data.experimental.cardinality(train_ds).numpy()\n",
        "test_length = tf.data.experimental.cardinality(test_ds).numpy()\n",
        "\n",
        "print(\"Longitud del conjunto de entrenamiento:\", train_length)\n",
        "print(\"Longitud del conjunto de prueba:\", test_length)"
      ]
    },
    {
      "cell_type": "code",
      "execution_count": 5,
      "metadata": {},
      "outputs": [
        {
          "name": "stdout",
          "output_type": "stream",
          "text": [
            "4\n",
            "['World', 'Sports', 'Business', 'Sci/Tech']\n"
          ]
        }
      ],
      "source": [
        "# Imprimir la cantidad y los nombres de las clases\n",
        "print(info.features[\"label\"].num_classes)\n",
        "print(info.features[\"label\"].names)"
      ]
    },
    {
      "cell_type": "code",
      "execution_count": 6,
      "metadata": {
        "colab": {
          "base_uri": "https://localhost:8080/",
          "height": 289
        },
        "id": "WELbtgROZw5f",
        "outputId": "b6cc8813-7778-43c5-8bbd-24b5f0408626"
      },
      "outputs": [
        {
          "name": "stderr",
          "output_type": "stream",
          "text": [
            "2025-03-30 20:50:31.010215: I tensorflow/core/kernels/data/tf_record_dataset_op.cc:387] The default buffer size is 262144, which is overridden by the user specified `buffer_size` of 8388608\n",
            "2025-03-30 20:50:31.016460: W tensorflow/core/kernels/data/cache_dataset_ops.cc:916] The calling iterator did not fully read the dataset being cached. In order to avoid unexpected truncation of the dataset, the partially cached contents of the dataset  will be discarded. This can happen if you have an input pipeline similar to `dataset.cache().take(k).repeat()`. You should use `dataset.take(k).cache().repeat()` instead.\n",
            "2025-03-30 20:50:31.016619: I tensorflow/core/framework/local_rendezvous.cc:407] Local rendezvous is aborting with status: OUT_OF_RANGE: End of sequence\n"
          ]
        },
        {
          "data": {
            "text/html": [
              "<style type=\"text/css\">\n",
              "</style>\n",
              "<table id=\"T_905b6\">\n",
              "  <thead>\n",
              "    <tr>\n",
              "      <th class=\"blank level0\" >&nbsp;</th>\n",
              "      <th id=\"T_905b6_level0_col0\" class=\"col_heading level0 col0\" >description</th>\n",
              "      <th id=\"T_905b6_level0_col1\" class=\"col_heading level0 col1\" >label</th>\n",
              "    </tr>\n",
              "  </thead>\n",
              "  <tbody>\n",
              "    <tr>\n",
              "      <th id=\"T_905b6_level0_row0\" class=\"row_heading level0 row0\" >0</th>\n",
              "      <td id=\"T_905b6_row0_col0\" class=\"data row0 col0\" >AMD #39;s new dual-core Opteron chip is designed mainly for corporate computing applications, including databases, Web services, and financial transactions.</td>\n",
              "      <td id=\"T_905b6_row0_col1\" class=\"data row0 col1\" >3 (Sci/Tech)</td>\n",
              "    </tr>\n",
              "    <tr>\n",
              "      <th id=\"T_905b6_level0_row1\" class=\"row_heading level0 row1\" >1</th>\n",
              "      <td id=\"T_905b6_row1_col0\" class=\"data row1 col0\" >Reuters - Major League Baseball\\Monday announced a decision on the appeal filed by Chicago Cubs\\pitcher Kerry Wood regarding a suspension stemming from an\\incident earlier this season.</td>\n",
              "      <td id=\"T_905b6_row1_col1\" class=\"data row1 col1\" >1 (Sports)</td>\n",
              "    </tr>\n",
              "    <tr>\n",
              "      <th id=\"T_905b6_level0_row2\" class=\"row_heading level0 row2\" >2</th>\n",
              "      <td id=\"T_905b6_row2_col0\" class=\"data row2 col0\" >President Bush #39;s quot;revenue-neutral quot; tax reform needs losers to balance its winners, and people claiming the federal deduction for state and local taxes may be in administration planners #39; sights, news reports say.</td>\n",
              "      <td id=\"T_905b6_row2_col1\" class=\"data row2 col1\" >2 (Business)</td>\n",
              "    </tr>\n",
              "    <tr>\n",
              "      <th id=\"T_905b6_level0_row3\" class=\"row_heading level0 row3\" >3</th>\n",
              "      <td id=\"T_905b6_row3_col0\" class=\"data row3 col0\" >Britain will run out of leading scientists unless science education is improved, says Professor Colin Pillinger.</td>\n",
              "      <td id=\"T_905b6_row3_col1\" class=\"data row3 col1\" >3 (Sci/Tech)</td>\n",
              "    </tr>\n",
              "    <tr>\n",
              "      <th id=\"T_905b6_level0_row4\" class=\"row_heading level0 row4\" >4</th>\n",
              "      <td id=\"T_905b6_row4_col0\" class=\"data row4 col0\" >London, England (Sports Network) - England midfielder Steven Gerrard injured his groin late in Thursday #39;s training session, but is hopeful he will be ready for Saturday #39;s World Cup qualifier against Austria.</td>\n",
              "      <td id=\"T_905b6_row4_col1\" class=\"data row4 col1\" >1 (Sports)</td>\n",
              "    </tr>\n",
              "  </tbody>\n",
              "</table>\n"
            ],
            "text/plain": [
              "                                         description  label\n",
              "0  b'AMD #39;s new dual-core Opteron chip is desi...      3\n",
              "1  b'Reuters - Major League Baseball\\\\Monday anno...      1\n",
              "2  b'President Bush #39;s  quot;revenue-neutral q...      2\n",
              "3  b'Britain will run out of leading scientists u...      3\n",
              "4  b'London, England (Sports Network) - England m...      1"
            ]
          },
          "execution_count": 6,
          "metadata": {},
          "output_type": "execute_result"
        }
      ],
      "source": [
        "# Mostrar los primeros 5 ejemplos del conjunto de datos de entrenamiento\n",
        "tfds.as_dataframe(train_ds.take(5), info)"
      ]
    },
    {
      "cell_type": "markdown",
      "metadata": {},
      "source": [
        "Vemos que el dataset está compuesto por más de 120.000 artículos divididos en train y test. Los mísmos están clasificados con cuatro tipo de etiquetas según su contenido."
      ]
    },
    {
      "cell_type": "markdown",
      "metadata": {
        "id": "xfc4rbgJkBLk"
      },
      "source": [
        "## Distribución de longitudes"
      ]
    },
    {
      "cell_type": "code",
      "execution_count": 7,
      "metadata": {},
      "outputs": [
        {
          "name": "stderr",
          "output_type": "stream",
          "text": [
            "2025-03-30 20:50:43.193656: I tensorflow/core/framework/local_rendezvous.cc:407] Local rendezvous is aborting with status: OUT_OF_RANGE: End of sequence\n"
          ]
        },
        {
          "name": "stdout",
          "output_type": "stream",
          "text": [
            "Media de longitudes: 193.40201666666667\n",
            "Mediana de longitudes: 188.0\n",
            "Desviación estándar de longitudes: 64.4517376228114\n",
            "Longitud mínima: 20\n",
            "Longitud máxima: 985\n",
            "Percentil 25: 155.0\n",
            "Percentil 50 (mediana): 188.0\n",
            "Percentil 75: 219.0\n"
          ]
        },
        {
          "data": {
            "image/png": "[encoded data removed]",
            "text/plain": [
              "<Figure size 1200x600 with 2 Axes>"
            ]
          },
          "metadata": {},
          "output_type": "display_data"
        }
      ],
      "source": [
        "# Obtener longitudes de los textos\n",
        "text_lengths = [len(text.numpy().decode('utf-8')) for text, label in train_ds]\n",
        "\n",
        "# Calcular estadísticas descriptivas\n",
        "mean_length = np.mean(text_lengths)\n",
        "median_length = np.median(text_lengths)\n",
        "std_length = np.std(text_lengths)\n",
        "min_length = np.min(text_lengths)\n",
        "max_length = np.max(text_lengths)\n",
        "percentiles = np.percentile(text_lengths, [25, 50, 75])\n",
        "\n",
        "# Imprimir estadísticas descriptivas\n",
        "print(f\"Media de longitudes: {mean_length}\")\n",
        "print(f\"Mediana de longitudes: {median_length}\")\n",
        "print(f\"Desviación estándar de longitudes: {std_length}\")\n",
        "print(f\"Longitud mínima: {min_length}\")\n",
        "print(f\"Longitud máxima: {max_length}\")\n",
        "print(f\"Percentil 25: {percentiles[0]}\")\n",
        "print(f\"Percentil 50 (mediana): {percentiles[1]}\")\n",
        "print(f\"Percentil 75: {percentiles[2]}\")\n",
        "\n",
        "# Crear una figura con dos subgráficos\n",
        "plt.figure(figsize=(12, 6))\n",
        "\n",
        "# Subgráfico 1: Histograma\n",
        "plt.subplot(1, 2, 1)\n",
        "plt.hist(text_lengths, bins=50)\n",
        "plt.xlabel('Longitud del Texto')\n",
        "plt.ylabel('Frecuencia')\n",
        "plt.title('Distribución de Longitudes de los Textos')\n",
        "\n",
        "# Subgráfico 2: Boxplot\n",
        "plt.subplot(1, 2, 2)\n",
        "plt.boxplot(text_lengths, vert=False)\n",
        "plt.xlabel('Longitud del Texto')\n",
        "plt.title('Boxplot de las Longitudes de los Textos')\n",
        "\n",
        "# Mostrar los gráficos\n",
        "plt.tight_layout()\n",
        "plt.show()"
      ]
    },
    {
      "cell_type": "markdown",
      "metadata": {},
      "source": [
        "Calculamos las estadísticas descriptivas y ploteamos dos gráficos de la distribución de longitudes de los textos del dataset.\n",
        "Vemos que, más alla de tener longitudes de hasta casi 1000 caracteres, la mayoría de los valores se concentran en torno al valor 200. Teniendo el 75% de los valores menores o igual a 219 caracteres."
      ]
    },
    {
      "cell_type": "markdown",
      "metadata": {
        "id": "JBfbQt7PkIXh"
      },
      "source": [
        "## Distribución de clases"
      ]
    },
    {
      "cell_type": "code",
      "execution_count": 8,
      "metadata": {
        "colab": {
          "base_uri": "https://localhost:8080/",
          "height": 531
        },
        "id": "6hn6KokskLXC",
        "outputId": "626105d5-6e39-420e-f9f6-b12fda7cfd36"
      },
      "outputs": [
        {
          "data": {
            "image/png": "[encoded data removed]",
            "text/plain": [
              "<Figure size 640x480 with 1 Axes>"
            ]
          },
          "metadata": {},
          "output_type": "display_data"
        }
      ],
      "source": [
        "# Obtener las etiquetas\n",
        "labels = [label.numpy() for text, label in train_ds]\n",
        "\n",
        "# Contar la frecuencia de cada etiqueta\n",
        "label_count = Counter(labels)\n",
        "\n",
        "# Obtener los nombres de las etiquetas desde info\n",
        "label_names = info.features['label'].int2str\n",
        "\n",
        "# Preparar los datos para el gráfico\n",
        "classes = [label_names(key) for key in label_count.keys()]\n",
        "counts = list(label_count.values())\n",
        "\n",
        "# Crear el gráfico de barras\n",
        "plt.bar(classes, counts)\n",
        "plt.xlabel('Categoría')\n",
        "plt.ylabel('Frecuencia')\n",
        "plt.title('Distribución de clases')\n",
        "plt.xticks(rotation=45)\n",
        "plt.show()"
      ]
    },
    {
      "cell_type": "markdown",
      "metadata": {
        "id": "FreyyrPllYtV"
      },
      "source": [
        "## Palabras más comunes"
      ]
    },
    {
      "cell_type": "code",
      "execution_count": 9,
      "metadata": {
        "colab": {
          "base_uri": "https://localhost:8080/",
          "height": 492
        },
        "id": "1GOA-I7NlZCy",
        "outputId": "85d5c88b-4fab-4807-d594-321caf594a15"
      },
      "outputs": [
        {
          "name": "stderr",
          "output_type": "stream",
          "text": [
            "2025-03-30 20:51:08.177819: I tensorflow/core/framework/local_rendezvous.cc:407] Local rendezvous is aborting with status: OUT_OF_RANGE: End of sequence\n"
          ]
        },
        {
          "data": {
            "image/png": "[encoded data removed]",
            "text/plain": [
              "<Figure size 640x480 with 1 Axes>"
            ]
          },
          "metadata": {},
          "output_type": "display_data"
        }
      ],
      "source": [
        "# Inicializar el contador\n",
        "word_count = Counter()\n",
        "\n",
        "# Iterar sobre el conjunto de datos de entrenamiento para contar palabras\n",
        "for text, label in train_ds:\n",
        "    words = re.findall(r'\\b\\w+\\b', text.numpy().decode('utf-8').lower())\n",
        "    word_count.update(words)\n",
        "\n",
        "# Mostrar las 20 palabras más comunes\n",
        "most_common_words = word_count.most_common(20)\n",
        "\n",
        "# Visualizar las palabras más comunes en un gráfico de barras horizontal\n",
        "words, counts = zip(*most_common_words)\n",
        "plt.barh(words, counts)\n",
        "plt.xlabel('Frecuencia')\n",
        "plt.ylabel('Palabras')\n",
        "plt.title('Palabras más comunes en el dataset')\n",
        "plt.gca().invert_yaxis()\n",
        "plt.show()"
      ]
    },
    {
      "cell_type": "markdown",
      "metadata": {
        "id": "N9VsXmgkpAja"
      },
      "source": [
        "Relizamos el mismo proceso pero eliminando las stop words:"
      ]
    },
    {
      "cell_type": "code",
      "execution_count": 10,
      "metadata": {
        "colab": {
          "base_uri": "https://localhost:8080/",
          "height": 527
        },
        "id": "cNCkyvDdpFFH",
        "outputId": "bc55eb9b-559e-4e6e-ba6e-427fe714e194"
      },
      "outputs": [
        {
          "name": "stderr",
          "output_type": "stream",
          "text": [
            "[nltk_data] Downloading package stopwords to /home/edus/nltk_data...\n",
            "[nltk_data]   Package stopwords is already up-to-date!\n"
          ]
        },
        {
          "data": {
            "image/png": "[encoded data removed]",
            "text/plain": [
              "<Figure size 640x480 with 1 Axes>"
            ]
          },
          "metadata": {},
          "output_type": "display_data"
        }
      ],
      "source": [
        "# Descargar las stop words\n",
        "nltk.download('stopwords')\n",
        "stop_words = set(stopwords.words('english'))\n",
        "\n",
        "# Iterar sobre el conjunto de datos de entrenamiento para contar palabras, eliminando las stop words\n",
        "for text, label in train_ds:\n",
        "    words = re.findall(r'\\b\\w+\\b', text.numpy().decode('utf-8').lower())\n",
        "    filtered_words = [word for word in words if word not in stop_words]\n",
        "    word_count.update(filtered_words)\n",
        "\n",
        "# Mostrar las 20 palabras más comunes\n",
        "most_common_words = word_count.most_common(20)\n",
        "\n",
        "# Visualizar las palabras más comunes en un gráfico de barras horizontal\n",
        "words, counts = zip(*most_common_words)\n",
        "plt.barh(words, counts)\n",
        "plt.xlabel('Frecuencia')\n",
        "plt.ylabel('Palabras')\n",
        "plt.title('Palabras más comunes en el dataset (sin stop words)')\n",
        "plt.gca().invert_yaxis()\n",
        "plt.show()"
      ]
    },
    {
      "cell_type": "markdown",
      "metadata": {},
      "source": [
        "## Nube de palabras"
      ]
    },
    {
      "cell_type": "code",
      "execution_count": null,
      "metadata": {},
      "outputs": [],
      "source": [
        "# Convertir el dataset a un solo string\n",
        "text_data = ' '.join([text.numpy().decode('utf-8') for text, label in train_ds])\n",
        "\n",
        "# Generar la nube de palabras\n",
        "wordcloud = WordCloud(width=800, height=400, background_color='white').generate(text_data)\n",
        "\n",
        "# Mostrar la nube de palabras\n",
        "plt.figure(figsize=(10, 5))\n",
        "plt.imshow(wordcloud, interpolation='bilinear')\n",
        "plt.axis('off')\n",
        "plt.title('Nube de Palabras del Dataset de Texto')\n",
        "plt.show()"
      ]
    },
    {
      "cell_type": "markdown",
      "metadata": {
        "id": "8qXG2LDSv_G1"
      },
      "source": [
        "# Modelo por caracter"
      ]
    },
    {
      "cell_type": "markdown",
      "metadata": {
        "id": "4Wdg_VOEh2yB"
      },
      "source": [
        "## Preprocesamiento de texto"
      ]
    },
    {
      "cell_type": "markdown",
      "metadata": {},
      "source": [
        "Como primer paso, vamos a pasar todos los textos contenidos en los datasets de train y test a string para poder utilizarlo en el entrenamiento del modelo.\n",
        "Para ello, creamos la siguiente función:"
      ]
    },
    {
      "cell_type": "code",
      "execution_count": null,
      "metadata": {
        "colab": {
          "base_uri": "https://localhost:8080/"
        },
        "id": "GsZVVvy-8uqx",
        "outputId": "041d9c52-bb2f-4aa4-b54d-a8b17fe36e1f"
      },
      "outputs": [
        {
          "name": "stdout",
          "output_type": "stream",
          "text": [
            "Primeros 500 caracteres del train_text:\n",
            " AMD #39;s new dual-core Opteron chip is designed mainly for corporate computing applications, including databases, Web services, and financial transactions. Reuters - Major League Baseball\\Monday announced a decision on the appeal filed by Chicago Cubs\\pitcher Kerry Wood regarding a suspension stemming from an\\incident earlier this season. President Bush #39;s  quot;revenue-neutral quot; tax reform needs losers to balance its winners, and people claiming the federal deduction for state and local\n",
            "\n",
            "Primeros 500 caracteres del test_text:\n",
            "  CHARLOTTE, N.C. (Sports Network) - Carolina Panthers  running back Stephen Davis will miss the remainder of the  season after being placed on injured reserve Saturday.  PRESENTACION, Philippines (Reuters) - Philippine communist  rebels freed Wednesday two soldiers they had held as \"prisoners  of war\" for more than five months, saying they wanted to  rebuild confidence in peace talks with the government. SAN FRANCISCO, CA - November 30, 2004 -Ubisoft, one of the world #39;s largest video game pu\n"
          ]
        }
      ],
      "source": [
        "# Función para convertir un dataset a texto\n",
        "def dataset_to_text(dataset):\n",
        "    text_data = ''\n",
        "    for text, label in dataset:\n",
        "        text_data += text.numpy().decode('utf-8') + ' '\n",
        "    return text_data\n",
        "\n",
        "# Convertir train_ds y test_ds a texto\n",
        "train_text = dataset_to_text(train_ds)\n",
        "test_text = dataset_to_text(test_ds)\n",
        "\n",
        "# Mostrar las primeras 500 caracteres de cada texto\n",
        "print(\"Primeros 500 caracteres del train_text:\\n\", train_text[:500])\n",
        "print(\"\\nPrimeros 500 caracteres del test_text:\\n\", test_text[:500])"
      ]
    },
    {
      "cell_type": "markdown",
      "metadata": {},
      "source": [
        "Para este modelo, hacemos una limpieza del texto a nivel de caracteres, convirtiendo las mayúsculas a minúsculas y eliminando los caracteres no alfabéticos."
      ]
    },
    {
      "cell_type": "code",
      "execution_count": null,
      "metadata": {
        "colab": {
          "base_uri": "https://localhost:8080/"
        },
        "id": "W2-hkn9l9mqP",
        "outputId": "6cae53b7-f4d8-421d-834c-b3e4dfeb5d14"
      },
      "outputs": [
        {
          "name": "stdout",
          "output_type": "stream",
          "text": [
            "Primeros 500 caracteres del train_text_processed:\n",
            " amd #39;s new dual-core opteron chip is designed mainly for corporate computing applications, including databases, web services, and financial transactions. reuters - major league baseball\\monday announced a decision on the appeal filed by chicago cubs\\pitcher kerry wood regarding a suspension stemming from an\\incident earlier this season. president bush #39;s  quot;revenue-neutral quot; tax reform needs losers to balance its winners, and people claiming the federal deduction for state and local\n"
          ]
        }
      ],
      "source": [
        "# Función para preprocesar texto a nivel de caracteres\n",
        "def preprocess_text_char(text):\n",
        "    text = tf.strings.lower(text) # Convertir a minúsculas\n",
        "    #text = tf.strings.regex_replace(text, '[^a-z ]', '')  # Eliminar caracteres no alfabéticos\n",
        "    return text\n",
        "\n",
        "train_text_processed = preprocess_text_char(train_text).numpy().decode('utf-8')\n",
        "test_text_processed = preprocess_text_char(test_text).numpy().decode('utf-8')\n",
        "\n",
        "print(\"Primeros 500 caracteres del train_text_processed:\\n\", train_text_processed[:500])"
      ]
    },
    {
      "cell_type": "code",
      "execution_count": null,
      "metadata": {
        "colab": {
          "base_uri": "https://localhost:8080/"
        },
        "id": "IlCgQBRVymwR",
        "outputId": "ec126442-282a-40fe-a439-8a49fe55e903"
      },
      "outputs": [
        {
          "name": "stdout",
          "output_type": "stream",
          "text": [
            "56 caracteres únicos\n"
          ]
        }
      ],
      "source": [
        "# Caracteres únicos en el texto procesado\n",
        "vocab = sorted(set(train_text_processed))\n",
        "print(f'{len(vocab)} caracteres únicos')"
      ]
    },
    {
      "cell_type": "markdown",
      "metadata": {},
      "source": [
        "Luego, utilizamos TensorFlow para convertir caracteres a IDs y viceversa. 'ids_from_chars' es una capa que toma un vocabulario de caracteres y puede mapear cualquier carácter en este vocabulario a un ID único y 'chars_from_ids' es la capa inversa, que toma IDs y los convierte de nuevo en caracteres utilizando el mismo vocabulario.\n",
        "A continuación, se define una función llamada text_from_ids que toma una secuencia de IDs y los convierte en texto concatenando los caracteres correspondientes. Esto es útil para verificar que el mapeo de IDs a caracteres se haya realizado correctamente."
      ]
    },
    {
      "cell_type": "code",
      "execution_count": null,
      "metadata": {
        "id": "ySxQfYHf9fPB"
      },
      "outputs": [],
      "source": [
        "# Crear mapeos de caracteres a IDs y viceversa\n",
        "ids_from_chars = tf.keras.layers.StringLookup(\n",
        "    vocabulary=list(vocab), mask_token=None)\n",
        "\n",
        "chars_from_ids = tf.keras.layers.StringLookup(\n",
        "    vocabulary=ids_from_chars.get_vocabulary(), invert=True, mask_token=None)\n",
        "\n",
        "def text_from_ids(ids):\n",
        "  return tf.strings.reduce_join(chars_from_ids(ids), axis=-1)"
      ]
    },
    {
      "cell_type": "markdown",
      "metadata": {},
      "source": [
        "Aquí, se convierte todo el texto de entrenamiento (train_text) en IDs de caracteres. Esto se hace dividiendo el texto en caracteres individuales y utilizando la capa 'ids_from_chars' para mapear cada carácter a su correspondiente ID."
      ]
    },
    {
      "cell_type": "code",
      "execution_count": null,
      "metadata": {
        "colab": {
          "base_uri": "https://localhost:8080/"
        },
        "id": "aG-1SjDv-erR",
        "outputId": "e763a2a3-f38c-488a-aa4d-2b60062f5f67"
      },
      "outputs": [],
      "source": [
        "# Convertir texto a IDs\n",
        "train_ids = ids_from_chars(tf.strings.unicode_split(train_text_processed, 'UTF-8'))\n",
        "val_ids = ids_from_chars(tf.strings.unicode_split(test_text_processed, 'UTF-8'))"
      ]
    },
    {
      "cell_type": "markdown",
      "metadata": {},
      "source": [
        "Estos IDs se utilizan para crear un dataset de TensorFlow, 'ids_dataset', donde cada elemento del dataset es un solo ID de carácter."
      ]
    },
    {
      "cell_type": "code",
      "execution_count": null,
      "metadata": {
        "id": "qmxrYDCTy-eL"
      },
      "outputs": [],
      "source": [
        "# Crear datasets de IDs\n",
        "train_ids_dataset = tf.data.Dataset.from_tensor_slices(train_ids)\n",
        "val_ids_dataset = tf.data.Dataset.from_tensor_slices(val_ids)"
      ]
    },
    {
      "cell_type": "code",
      "execution_count": null,
      "metadata": {
        "colab": {
          "base_uri": "https://localhost:8080/"
        },
        "id": "cjH5v45-yqqH",
        "outputId": "1f486020-c517-4384-b577-4ef26e85b3fa"
      },
      "outputs": [
        {
          "name": "stdout",
          "output_type": "stream",
          "text": [
            "a\n",
            "m\n",
            "d\n",
            " \n",
            "#\n",
            "3\n",
            "9\n",
            ";\n",
            "s\n",
            " \n"
          ]
        }
      ],
      "source": [
        "# Mostrar los primeros 10 IDs convertidos a caracteres\n",
        "for ids in train_ids_dataset.take(10):\n",
        "    print(chars_from_ids(ids).numpy().decode('utf-8'))"
      ]
    },
    {
      "cell_type": "markdown",
      "metadata": {},
      "source": [
        "El siguiente paso es formar secuencias de longitud fija a partir de este dataset de IDs. Se define una longitud de secuencia (seq_length) de 100 caracteres. El dataset se agrupa en lotes de tamaño seq_length + 1 (101 caracteres en total) para formar las secuencias. Esto asegura que cada secuencia tenga la longitud adecuada para el entrenamiento del modelo. Se imprimen algunas de estas secuencias para verificar su contenido."
      ]
    },
    {
      "cell_type": "code",
      "execution_count": null,
      "metadata": {
        "colab": {
          "base_uri": "https://localhost:8080/"
        },
        "id": "4vd2mW3O-6Tg",
        "outputId": "6cc32134-253a-422f-d1a4-92bb294563e4"
      },
      "outputs": [
        {
          "name": "stdout",
          "output_type": "stream",
          "text": [
            "tf.Tensor(\n",
            "[b'a' b'm' b'd' b' ' b'#' b'3' b'9' b';' b's' b' ' b'n' b'e' b'w' b' '\n",
            " b'd' b'u' b'a' b'l' b'-' b'c' b'o' b'r' b'e' b' ' b'o' b'p' b't' b'e'\n",
            " b'r' b'o' b'n' b' ' b'c' b'h' b'i' b'p' b' ' b'i' b's' b' ' b'd' b'e'\n",
            " b's' b'i' b'g' b'n' b'e' b'd' b' ' b'm' b'a' b'i' b'n' b'l' b'y' b' '\n",
            " b'f' b'o' b'r' b' ' b'c' b'o' b'r' b'p' b'o' b'r' b'a' b't' b'e' b' '\n",
            " b'c' b'o' b'm' b'p' b'u' b't' b'i' b'n' b'g' b' ' b'a' b'p' b'p' b'l'\n",
            " b'i' b'c' b'a' b't' b'i' b'o' b'n' b's' b',' b' ' b'i' b'n' b'c' b'l'\n",
            " b'u' b'd' b'i'], shape=(101,), dtype=string)\n"
          ]
        }
      ],
      "source": [
        "# Definir longitud de secuencia\n",
        "seq_length = 100\n",
        "\n",
        "# Crear secuencias de IDs\n",
        "train_sequences = train_ids_dataset.batch(seq_length + 1, drop_remainder=True)\n",
        "val_sequences = val_ids_dataset.batch(seq_length + 1, drop_remainder=True)\n",
        "\n",
        "\n",
        "# Mostrar una secuencia de ejemplo\n",
        "for seq in train_sequences.take(1):\n",
        "  print(chars_from_ids(seq))"
      ]
    },
    {
      "cell_type": "code",
      "execution_count": null,
      "metadata": {
        "colab": {
          "base_uri": "https://localhost:8080/"
        },
        "id": "oxX61C24_CY0",
        "outputId": "a4003543-fb7e-4d3b-84a4-fd7053664a9d"
      },
      "outputs": [
        {
          "name": "stdout",
          "output_type": "stream",
          "text": [
            "b'amd #39;s new dual-core opteron chip is designed mainly for corporate computing applications, includi'\n",
            "b'ng databases, web services, and financial transactions. reuters - major league baseball\\\\monday announ'\n",
            "b'ced a decision on the appeal filed by chicago cubs\\\\pitcher kerry wood regarding a suspension stemming'\n",
            "b' from an\\\\incident earlier this season. president bush #39;s  quot;revenue-neutral quot; tax reform ne'\n",
            "b'eds losers to balance its winners, and people claiming the federal deduction for state and local taxe'\n"
          ]
        }
      ],
      "source": [
        "# Mostrar las primeras 5 secuencias de ejemplo\n",
        "for seq in train_sequences.take(5):\n",
        "  print(text_from_ids(seq).numpy())"
      ]
    },
    {
      "cell_type": "markdown",
      "metadata": {},
      "source": [
        "Luego, se define una función 'split_input_target' que divide cada secuencia en dos partes: la secuencia de entrada y la secuencia objetivo. La secuencia de entrada contiene todos los caracteres excepto el último, y la secuencia objetivo contiene todos los caracteres excepto el primero. Esto crea pares de datos que se utilizan para entrenar el modelo: dado un texto de entrada, el modelo aprende a predecir el siguiente carácter. Se aplica esta función de división a todo el dataset de secuencias."
      ]
    },
    {
      "cell_type": "code",
      "execution_count": null,
      "metadata": {
        "id": "vv-BfRDG_NEy"
      },
      "outputs": [],
      "source": [
        "# Función para dividir la secuencia en entrada y objetivo\n",
        "def split_input_target(sequence):\n",
        "    input_text = sequence[:-1]\n",
        "    target_text = sequence[1:]\n",
        "    return input_text, target_text\n",
        "\n",
        "# Aplicar la función a los datasets\n",
        "train_dataset = train_sequences.map(split_input_target)\n",
        "val_dataset = val_sequences.map(split_input_target)"
      ]
    },
    {
      "cell_type": "code",
      "execution_count": null,
      "metadata": {
        "colab": {
          "base_uri": "https://localhost:8080/"
        },
        "id": "Re-IwiWq_YdZ",
        "outputId": "66fbf338-6a6e-4a30-d974-4dda9741cd70"
      },
      "outputs": [
        {
          "name": "stdout",
          "output_type": "stream",
          "text": [
            "Input : b'amd #39;s new dual-core opteron chip is designed mainly for corporate computing applications, includ'\n",
            "Target: b'md #39;s new dual-core opteron chip is designed mainly for corporate computing applications, includi'\n"
          ]
        }
      ],
      "source": [
        "# Mostrar un ejemplo de entrada y objetivo\n",
        "for input_example, target_example in train_dataset.take(1):\n",
        "    print(\"Input :\", text_from_ids(input_example).numpy())\n",
        "    print(\"Target:\", text_from_ids(target_example).numpy())"
      ]
    },
    {
      "cell_type": "markdown",
      "metadata": {
        "id": "xfsALa8SvgOG"
      },
      "source": [
        "## Construcción"
      ]
    },
    {
      "cell_type": "markdown",
      "metadata": {},
      "source": [
        "Este código define y entrena un modelo de red neuronal recurrente para la generación de texto a nivel de caracteres utilizando TensorFlow. Primero, se especifica el tamaño del lote para la capacitación y se define un tamaño de buffer para barajar el conjunto de datos. Luego, se crea el dataset de entrenamiento, que se baraja, agrupa en lotes y prefetch para mejorar el rendimiento durante el entrenamiento."
      ]
    },
    {
      "cell_type": "code",
      "execution_count": null,
      "metadata": {},
      "outputs": [],
      "source": [
        "# Batch size\n",
        "BATCH_SIZE = 64\n",
        "\n",
        "# Buffer size para barajar el dataset\n",
        "BUFFER_SIZE = 10000\n",
        "\n",
        "# Crear datasets de entrenamiento y validación\n",
        "train_dataset = (\n",
        "    train_dataset\n",
        "    .shuffle(BUFFER_SIZE)\n",
        "    .batch(BATCH_SIZE, drop_remainder=True)\n",
        "    .prefetch(tf.data.experimental.AUTOTUNE)\n",
        ")\n",
        "\n",
        "val_dataset = (\n",
        "    val_dataset\n",
        "    .shuffle(BUFFER_SIZE)\n",
        "    .batch(BATCH_SIZE, drop_remainder=True)\n",
        "    .prefetch(tf.data.experimental.AUTOTUNE)\n",
        ")"
      ]
    },
    {
      "cell_type": "markdown",
      "metadata": {},
      "source": [
        "Se definen los hiperparámetros del modelo, incluido el tamaño del vocabulario, la dimensión de la capa de embedding y el número de unidades de la red recurrente. El modelo se define mediante una clase personalizada que extiende tf.keras.Model. Esta clase tiene una capa de embedding para convertir los índices de caracteres en vectores densos, una capa GRU para manejar la secuencia de datos y una capa densa para generar la predicción de caracteres."
      ]
    },
    {
      "cell_type": "code",
      "execution_count": null,
      "metadata": {
        "id": "7bTpjWPSvgof"
      },
      "outputs": [],
      "source": [
        "# Definir hiperparámetros del modelo\n",
        "vocab_size = len(ids_from_chars.get_vocabulary())\n",
        "embedding_dim = 256\n",
        "rnn_units = 384"
      ]
    },
    {
      "cell_type": "code",
      "execution_count": null,
      "metadata": {
        "id": "wj8HQ2w8z4iO"
      },
      "outputs": [],
      "source": [
        "# Definir el modelo\n",
        "class MyModel(tf.keras.Model):\n",
        "  def __init__(self, vocab_size, embedding_dim, rnn_units):\n",
        "    super().__init__(self)\n",
        "    self.embedding = tf.keras.layers.Embedding(vocab_size, embedding_dim)\n",
        "    self.gru = tf.keras.layers.GRU(rnn_units,\n",
        "                                   return_sequences=True,\n",
        "                                   return_state=True)\n",
        "    self.dense = tf.keras.layers.Dense(vocab_size)\n",
        "\n",
        "  def call(self, inputs, states=None, return_state=False, training=False):\n",
        "    x = inputs\n",
        "    x = self.embedding(x, training=training)\n",
        "    if states is None:\n",
        "      states = self.gru.get_initial_state(x)\n",
        "    x, states = self.gru(x, initial_state=states, training=training)\n",
        "    x = self.dense(x, training=training)\n",
        "\n",
        "    if return_state:\n",
        "      return x, states\n",
        "    else:\n",
        "      return x"
      ]
    },
    {
      "cell_type": "code",
      "execution_count": null,
      "metadata": {
        "id": "T9DA090mvt3i"
      },
      "outputs": [],
      "source": [
        "# Crear instancia del modelo\n",
        "character_model = MyModel(\n",
        "    vocab_size=vocab_size,\n",
        "    embedding_dim=embedding_dim,\n",
        "    rnn_units=rnn_units)"
      ]
    },
    {
      "cell_type": "code",
      "execution_count": null,
      "metadata": {
        "colab": {
          "base_uri": "https://localhost:8080/"
        },
        "id": "Ce9-97B1_3sP",
        "outputId": "eff0400d-019b-4464-850c-b012c975e8bc"
      },
      "outputs": [
        {
          "name": "stdout",
          "output_type": "stream",
          "text": [
            "(64, 100, 57) # (batch_size, sequence_length, vocab_size)\n"
          ]
        }
      ],
      "source": [
        "# Probar el modelo con una entrada de ejemplo\n",
        "for input_example_batch, target_example_batch in train_dataset.take(1):\n",
        "    example_batch_predictions = character_model(input_example_batch)\n",
        "    print(example_batch_predictions.shape, \"# (batch_size, sequence_length, vocab_size)\")"
      ]
    },
    {
      "cell_type": "markdown",
      "metadata": {
        "id": "ib3rfFX4wYgf"
      },
      "source": [
        "## Entrenamiento"
      ]
    },
    {
      "cell_type": "markdown",
      "metadata": {},
      "source": [
        "Para el entrenamiento, se establece la función de pérdida como SparseCategoricalCrossentropy, que es adecuada para problemas de clasificación categórica con clases exclusivas. El modelo se compila con el optimizador Adam, conocido por su eficiencia en la práctica y buenos resultados."
      ]
    },
    {
      "cell_type": "code",
      "execution_count": null,
      "metadata": {
        "id": "UPVFGuDme6V6"
      },
      "outputs": [
        {
          "name": "stdout",
          "output_type": "stream",
          "text": [
            "Model: \"my_model_7\"\n",
            "_________________________________________________________________\n",
            " Layer (type)                Output Shape              Param #   \n",
            "=================================================================\n",
            " embedding_7 (Embedding)     multiple                  14592     \n",
            "                                                                 \n",
            " gru_7 (GRU)                 multiple                  739584    \n",
            "                                                                 \n",
            " dense_7 (Dense)             multiple                  21945     \n",
            "                                                                 \n",
            "=================================================================\n",
            "Total params: 776,121\n",
            "Trainable params: 776,121\n",
            "Non-trainable params: 0\n",
            "_________________________________________________________________\n"
          ]
        }
      ],
      "source": [
        "# Definir la pérdida\n",
        "loss = tf.losses.SparseCategoricalCrossentropy(from_logits=True)\n",
        "\n",
        "# Compilar el modelo\n",
        "character_model.compile(optimizer=tf.keras.optimizers.Adam(), loss=loss)\n",
        "\n",
        "character_model.summary()"
      ]
    },
    {
      "cell_type": "markdown",
      "metadata": {},
      "source": [
        "Se definen dos callbacks para el entrenamiento: ModelCheckpoint y EarlyStopping. El primero guarda los pesos del modelo después de cada época si la pérdida mejora, mientras que el segundo detiene el entrenamiento si la pérdida no mejora durante tres épocas consecutivas, restaurando los mejores pesos encontrados durante el entrenamiento."
      ]
    },
    {
      "cell_type": "code",
      "execution_count": null,
      "metadata": {
        "id": "tD2WqX69w4S2"
      },
      "outputs": [],
      "source": [
        "# Definir callbacks\n",
        "early_stopping_callback = tf.keras.callbacks.EarlyStopping(\n",
        "    monitor='loss',\n",
        "    patience=3,\n",
        "    restore_best_weights=True\n",
        ")"
      ]
    },
    {
      "cell_type": "code",
      "execution_count": null,
      "metadata": {
        "colab": {
          "base_uri": "https://localhost:8080/"
        },
        "id": "y7_LO3TFxZQZ",
        "outputId": "4edb3386-cb7d-4ecc-fe7d-9f2d5d36a0de"
      },
      "outputs": [],
      "source": [
        "# Definir número de épocas\n",
        "EPOCHS = 10\n",
        "\n",
        "# Entrenar el modelo\n",
        "history = character_model.fit(train_dataset, epochs=EPOCHS, validation_data=val_dataset, callbacks=[early_stopping_callback])"
      ]
    },
    {
      "cell_type": "markdown",
      "metadata": {},
      "source": [
        "Guardamos los pesos creados por el modelo:"
      ]
    },
    {
      "cell_type": "code",
      "execution_count": null,
      "metadata": {},
      "outputs": [],
      "source": [
        "# Definir el nombre del archivo donde guardar los pesos\n",
        "weights_file = '/home/rama811/Escritorio/tp_final_aa2/character_model_weights.h5'\n",
        "\n",
        "# Guardar los pesos del modelo\n",
        "character_model.save_weights(weights_file)\n",
        "\n",
        "# Confirmación de guardado\n",
        "print(\"Pesos del modelo guardados correctamente en:\", weights_file)"
      ]
    },
    {
      "cell_type": "code",
      "execution_count": null,
      "metadata": {},
      "outputs": [
        {
          "name": "stdout",
          "output_type": "stream",
          "text": [
            "Pesos del modelo cargados correctamente en: /home/rama811/Escritorio/tp_final_aa2/character_model_weights_4.h5\n"
          ]
        }
      ],
      "source": [
        "# Definir el nombre del archivo donde cargar los pesos\n",
        "weights_file = '/home/rama811/Escritorio/tp_final_aa2/character_model_weights_4.h5'\n",
        "\n",
        "# Cargar los pesos del modelo\n",
        "character_model.load_weights(weights_file)\n",
        "\n",
        "# Confirmación de cargado\n",
        "print(\"Pesos del modelo cargados correctamente en:\", weights_file)"
      ]
    },
    {
      "cell_type": "markdown",
      "metadata": {},
      "source": [
        "Probamos con un modelo más complejo:"
      ]
    },
    {
      "cell_type": "code",
      "execution_count": null,
      "metadata": {},
      "outputs": [],
      "source": [
        "class MyModel(tf.keras.Model):\n",
        "  def __init__(self, vocab_size, embedding_dim, rnn_units, dropout_rate=0.2):\n",
        "    super().__init__(self)\n",
        "    self.embedding = tf.keras.layers.Embedding(vocab_size, embedding_dim)\n",
        "    self.gru1 = tf.keras.layers.GRU(rnn_units,\n",
        "                                    return_sequences=True,\n",
        "                                    return_state=True)\n",
        "    self.dropout1 = tf.keras.layers.Dropout(dropout_rate)\n",
        "    self.gru2 = tf.keras.layers.GRU(rnn_units,\n",
        "                                    return_sequences=True,\n",
        "                                    return_state=True)\n",
        "    self.dropout2 = tf.keras.layers.Dropout(dropout_rate)\n",
        "    self.dense = tf.keras.layers.Dense(vocab_size)\n",
        "\n",
        "  def call(self, inputs, states=None, return_state=False, training=False):\n",
        "    x = inputs\n",
        "    x = self.embedding(x, training=training)\n",
        "    if states is None:\n",
        "      states = self.gru1.get_initial_state(x)\n",
        "    x, states = self.gru1(x, initial_state=states, training=training)\n",
        "    x = self.dropout1(x, training=training)\n",
        "    x, states = self.gru2(x, initial_state=states, training=training)\n",
        "    x = self.dropout2(x, training=training)\n",
        "    x = self.dense(x, training=training)\n",
        "\n",
        "    if return_state:\n",
        "      return x, states\n",
        "    else:\n",
        "      return x\n",
        "\n",
        "# Parámetros del modelo\n",
        "vocab_size = len(ids_from_chars.get_vocabulary())\n",
        "embedding_dim = 256\n",
        "rnn_units = 256\n",
        "dropout_rate = 0.3\n",
        "\n",
        "# Instanciar el modelo\n",
        "character_model_2 = MyModel(vocab_size, embedding_dim, rnn_units, dropout_rate)\n",
        "\n",
        "# Compilar el modelo\n",
        "character_model_2.compile(optimizer=tf.keras.optimizers.Adam(learning_rate=0.001),\n",
        "              loss=tf.keras.losses.SparseCategoricalCrossentropy(from_logits=True))\n",
        "\n",
        "# Resumen del modelo\n",
        "character_model_2.build(tf.TensorShape([None, None]))\n",
        "character_model_2.summary()"
      ]
    },
    {
      "cell_type": "code",
      "execution_count": null,
      "metadata": {},
      "outputs": [],
      "source": [
        "history = character_model_2.fit(train_dataset, epochs=10, validation_data=val_dataset, callbacks=early_stopping_callback)"
      ]
    },
    {
      "cell_type": "code",
      "execution_count": null,
      "metadata": {},
      "outputs": [],
      "source": [
        "# Definir el nombre del archivo donde guardar los pesos\n",
        "weights_file = '/home/rama811/Escritorio/tp_final_aa2/character_model_2_weights.h5'\n",
        "\n",
        "# Guardar los pesos del modelo\n",
        "character_model_2.save_weights(weights_file)\n",
        "\n",
        "# Confirmación de guardado\n",
        "print(\"Pesos del modelo guardados correctamente en:\", weights_file)"
      ]
    },
    {
      "cell_type": "markdown",
      "metadata": {
        "id": "ZYqav1vdYFvc"
      },
      "source": [
        "## Generación de texto"
      ]
    },
    {
      "cell_type": "markdown",
      "metadata": {},
      "source": [
        "La clase OneStep hereda de tf.keras.Model y se utiliza para generar texto carácter por carácter, manejando el proceso de predicción y ajustando la aleatoriedad de las predicciones mediante un parámetro de temperatura.\n",
        "Para evitar la generación de tokens desconocidos (\"[UNK]\"), se crea una máscara que asigna un valor de probabilidad negativo infinito a estos tokens.\n",
        "El método generate_one_step se define como una función de TensorFlow que toma una entrada de texto y un estado opcional del modelo. Convierte la entrada de texto en IDs de tokens, los pasa a través del modelo para obtener las predicciones de los logits, y ajusta estos logits utilizando la temperatura y la máscara de predicción. Luego, se realiza un muestreo de estos logits para obtener los IDs de los siguientes caracteres y se convierten nuevamente en caracteres."
      ]
    },
    {
      "cell_type": "code",
      "execution_count": null,
      "metadata": {
        "id": "o0N4E26JYHjp"
      },
      "outputs": [],
      "source": [
        "def generate_text_character(query, model):\n",
        "\n",
        "  # Definición de la clase OneStep que hereda de tf.keras.Model\n",
        "  class OneStep(tf.keras.Model):\n",
        "    def __init__(self, model, chars_from_ids, ids_from_chars, temperature=1.0):\n",
        "      super().__init__()\n",
        "      self.temperature = temperature # Temperatura para ajustar la aleatoriedad de las predicciones\n",
        "      self.model = model # Modelo de generación de texto\n",
        "      self.chars_from_ids = chars_from_ids # Función para convertir IDs a caracteres\n",
        "      self.ids_from_chars = ids_from_chars # Función para convertir caracteres a IDs\n",
        "\n",
        "      # Crear una máscara para prevenir la generación del token \"[UNK]\"\n",
        "      skip_ids = self.ids_from_chars(['[UNK]'])[:, None]\n",
        "      sparse_mask = tf.SparseTensor(\n",
        "          # Asignar un valor negativo infinito a cada índice de token \"[UNK]\"\n",
        "          values=[-float('inf')]*len(skip_ids),\n",
        "          indices=skip_ids,\n",
        "          # Igualar la forma de la máscara al vocabulario\n",
        "          dense_shape=[len(ids_from_chars.get_vocabulary())])\n",
        "      self.prediction_mask = tf.sparse.to_dense(sparse_mask) # Convertir la máscara dispersa a una densa\n",
        "\n",
        "    # Definir una función para generar un paso en la secuencia\n",
        "    @tf.function\n",
        "    def generate_one_step(self, inputs, states=None):\n",
        "      # Convertir las cadenas de texto a IDs de tokens\n",
        "      input_chars = tf.strings.unicode_split(inputs, 'UTF-8')\n",
        "      input_ids = self.ids_from_chars(input_chars).to_tensor()\n",
        "\n",
        "      # Ejecutar el modelo\n",
        "      # predicted_logits.shape es [batch, char, next_char_logits]\n",
        "      predicted_logits, states = self.model(inputs=input_ids, states=states,\n",
        "                                            return_state=True)\n",
        "      # Usar solo la última predicción\n",
        "      predicted_logits = predicted_logits[:, -1, :]\n",
        "      predicted_logits = predicted_logits/self.temperature\n",
        "      # Aplicar la máscara de predicción: prevenir la generación del token \"[UNK]\"\n",
        "      predicted_logits = predicted_logits + self.prediction_mask\n",
        "\n",
        "      # Muestrear los logits de salida para generar IDs de tokens\n",
        "      predicted_ids = tf.random.categorical(predicted_logits, num_samples=1)\n",
        "      predicted_ids = tf.squeeze(predicted_ids, axis=-1)\n",
        "\n",
        "      # Convertir de IDs de tokens a caracteres\n",
        "      predicted_chars = self.chars_from_ids(predicted_ids)\n",
        "\n",
        "      # Devolver los caracteres predichos y el estado del modelo\n",
        "      return predicted_chars, states\n",
        "    \n",
        "  # Crear una instancia de OneStep\n",
        "  one_step_model = OneStep(model, chars_from_ids, ids_from_chars)\n",
        "\n",
        "  # Inicializar el estado del modelo y la primera entrada\n",
        "  states = None\n",
        "  next_char = tf.constant([query])\n",
        "  result = [next_char]\n",
        "\n",
        "  # Generar 1000 caracteres\n",
        "  for n in range(1000):\n",
        "    next_char, states = one_step_model.generate_one_step(next_char, states=states)\n",
        "    result.append(next_char)\n",
        "\n",
        "  # Unir los caracteres generados en una cadena de texto\n",
        "  result = tf.strings.join(result)\n",
        "  print(result[0].numpy().decode('utf-8'), '\\n\\n' + '_'*80)"
      ]
    },
    {
      "cell_type": "code",
      "execution_count": null,
      "metadata": {
        "colab": {
          "base_uri": "https://localhost:8080/"
        },
        "id": "f7sELntAYQY6",
        "outputId": "c6530904-dd89-46e6-ebd7-0947ad5b1234"
      },
      "outputs": [
        {
          "name": "stdout",
          "output_type": "stream",
          "text": [
            "The president #39;s first quarterly under the legal militant for the european union, employee by the company #39;s military report shortages in the third quarter, a survey of  hunting around rewratedead since ached easier to recruit all amphicition about kahammas and animals said today that he would treat electronic trade organization (wto), australia -- and moving groups seen cheaper, 11  peter defensident of the heavyweight capturing the world #39;s security co. returning to the office of agreement discovery of \\first note could close the sideline emergency  san francisco (reuters) - us airways led blue carrier transfer witness said. now this week that their bodies of uk somediment produce increased teams quality the singles meeting as 1-loss like al qaeda. russian force by amazon. president reaper the career largest (sep) that pilots are pulling on 1918 house in the automatic until african us stefairing  world cup semiconductors and citibann #39; former mayor gave up further to cut winner from i \n",
            "\n",
            "________________________________________________________________________________\n"
          ]
        }
      ],
      "source": [
        "query = 'The president'\n",
        "model = character_model\n",
        "\n",
        "generate_text_character(query, model)"
      ]
    },
    {
      "cell_type": "markdown",
      "metadata": {
        "id": "Q0bCbGhu1n4J"
      },
      "source": [
        "# Modelo por palabra"
      ]
    },
    {
      "cell_type": "markdown",
      "metadata": {
        "id": "9hLgujaMqpAM"
      },
      "source": [
        "## Preprocesamiento de texto"
      ]
    },
    {
      "cell_type": "markdown",
      "metadata": {},
      "source": [
        "Como primer paso, vamos a pasar todos los textos contenidos en los datasets de train y test a string para poder utilizarlo en el entrenamiento del modelo.\n",
        "Para ello, creamos la siguiente función:"
      ]
    },
    {
      "cell_type": "code",
      "execution_count": null,
      "metadata": {
        "colab": {
          "base_uri": "https://localhost:8080/"
        },
        "id": "kNyPIs5frcfW",
        "outputId": "c7c20ab6-9997-4519-e193-4c10d2d334f7"
      },
      "outputs": [
        {
          "name": "stdout",
          "output_type": "stream",
          "text": [
            "Primeros 500 caracteres del train_text:\n",
            " AMD #39;s new dual-core Opteron chip is designed mainly for corporate computing applications, including databases, Web services, and financial transactions. Reuters - Major League Baseball\\Monday announced a decision on the appeal filed by Chicago Cubs\\pitcher Kerry Wood regarding a suspension stemming from an\\incident earlier this season. President Bush #39;s  quot;revenue-neutral quot; tax reform needs losers to balance its winners, and people claiming the federal deduction for state and local\n",
            "\n",
            "Primeros 500 caracteres del test_text:\n",
            "  CHARLOTTE, N.C. (Sports Network) - Carolina Panthers  running back Stephen Davis will miss the remainder of the  season after being placed on injured reserve Saturday.  PRESENTACION, Philippines (Reuters) - Philippine communist  rebels freed Wednesday two soldiers they had held as \"prisoners  of war\" for more than five months, saying they wanted to  rebuild confidence in peace talks with the government. SAN FRANCISCO, CA - November 30, 2004 -Ubisoft, one of the world #39;s largest video game pu\n"
          ]
        }
      ],
      "source": [
        "# Función para convertir un dataset a texto\n",
        "def dataset_to_text(dataset):\n",
        "    text_data = ''\n",
        "    for text, label in dataset:\n",
        "        text_data += text.numpy().decode('utf-8') + ' ' # Convertir cada texto en el dataset a string y concatenar\n",
        "    return text_data\n",
        "\n",
        "# Convertir train_ds y test_ds a texto\n",
        "train_text = dataset_to_text(train_ds)\n",
        "test_text = dataset_to_text(test_ds)\n",
        "\n",
        "# Mostrar las primeras 500 caracteres de cada texto\n",
        "print(\"Primeros 500 caracteres del train_text:\\n\", train_text[:500])\n",
        "print(\"\\nPrimeros 500 caracteres del test_text:\\n\", test_text[:500])"
      ]
    },
    {
      "cell_type": "markdown",
      "metadata": {},
      "source": [
        "Para este modelo, hacemos una limpieza del texto a nivel de palabras, convirtiendo las mayúsculas a minúsculas, eliminando los caracteres no alfabéticos y dividiendo el texto en palabras."
      ]
    },
    {
      "cell_type": "code",
      "execution_count": null,
      "metadata": {
        "colab": {
          "base_uri": "https://localhost:8080/"
        },
        "id": "wWrNlxSKY6Md",
        "outputId": "0965058c-de3a-4f94-9b47-fde98dcdbdd5"
      },
      "outputs": [
        {
          "name": "stdout",
          "output_type": "stream",
          "text": [
            "Primeras 50 palabras del train_text_processed:\n",
            " [b'amd' b's' b'new' b'dualcore' b'opteron' b'chip' b'is' b'designed'\n",
            " b'mainly' b'for' b'corporate' b'computing' b'applications' b'including'\n",
            " b'databases' b'web' b'services' b'and' b'financial' b'transactions'\n",
            " b'reuters' b'major' b'league' b'baseballmonday' b'announced' b'a'\n",
            " b'decision' b'on' b'the' b'appeal' b'filed' b'by' b'chicago'\n",
            " b'cubspitcher' b'kerry' b'wood' b'regarding' b'a' b'suspension'\n",
            " b'stemming' b'from' b'anincident' b'earlier' b'this' b'season'\n",
            " b'president' b'bush' b's' b'quotrevenueneutral' b'quot']\n"
          ]
        }
      ],
      "source": [
        "# Función para preprocesar texto dividiéndolo en palabras\n",
        "def preprocess_text_word(text):\n",
        "    text = tf.strings.lower(text) # Convertir a minúsculas\n",
        "    text = tf.strings.regex_replace(text, '[^a-z ]', '')  # Eliminar caracteres no alfabéticos\n",
        "    text = tf.strings.split(text)  # Dividir el texto en palabras\n",
        "    return text\n",
        "\n",
        "train_text_processed = preprocess_text_word(train_text).numpy()\n",
        "test_text_processed = preprocess_text_word(test_text).numpy()\n",
        "\n",
        "# Mostrar las primeras 50 palabras del texto preprocesado\n",
        "print(\"Primeras 50 palabras del train_text_processed:\\n\", train_text_processed[:50])"
      ]
    },
    {
      "cell_type": "markdown",
      "metadata": {},
      "source": [
        "El vocabulario se crea a partir del texto preprocesado, utilizando las palabras únicas encontradas en el texto de entrenamiento. Se imprimen el número de palabras únicas en el vocabulario.\n",
        "A continuación, se crean mapeos de palabras a IDs y de IDs a palabras usando tf.keras.layers.StringLookup. ids_from_words convierte palabras a IDs y words_from_ids hace lo contrario, es decir, convierte IDs a palabras.\n",
        "Se define una función text_from_ids que convierte IDs de vuelta a texto. Esta función utiliza tf.strings.reduce_join para unir las palabras correspondientes a los IDs con un espacio como separador.\n"
      ]
    },
    {
      "cell_type": "code",
      "execution_count": null,
      "metadata": {
        "colab": {
          "base_uri": "https://localhost:8080/"
        },
        "id": "oLZNK9j-qWIG",
        "outputId": "930dc70b-c45b-4454-df90-7315069ddd2b"
      },
      "outputs": [
        {
          "name": "stdout",
          "output_type": "stream",
          "text": [
            "84712 palabras únicas\n",
            "b'amd'\n",
            "b's'\n",
            "b'new'\n",
            "b'dualcore'\n",
            "b'opteron'\n",
            "b'chip'\n",
            "b'is'\n",
            "b'designed'\n",
            "b'mainly'\n",
            "b'for'\n"
          ]
        }
      ],
      "source": [
        "# Crear un vocabulario a partir del texto preprocesado\n",
        "vocab = sorted(set(train_text_processed.flat))\n",
        "print(f'{len(vocab)} palabras únicas')\n",
        "\n",
        "# Crear mapeos de palabras a IDs y viceversa\n",
        "ids_from_words = tf.keras.layers.StringLookup(vocabulary=vocab, mask_token=None)\n",
        "words_from_ids = tf.keras.layers.StringLookup(vocabulary=ids_from_words.get_vocabulary(), invert=True, mask_token=None)\n",
        "\n",
        "# Función para convertir IDs a texto\n",
        "def text_from_ids(ids):\n",
        "    return tf.strings.reduce_join(words_from_ids(ids), axis=-1, separator=' ')\n",
        "\n",
        "# Convertir las palabras a IDs\n",
        "train_ids = ids_from_words(tf.constant(train_text_processed.flat))\n",
        "val_ids = ids_from_words(tf.constant(test_text_processed.flat))\n",
        "\n",
        "# Convertir a dataset de IDs\n",
        "train_ids_dataset = tf.data.Dataset.from_tensor_slices(train_ids)\n",
        "val_ids_dataset = tf.data.Dataset.from_tensor_slices(val_ids)\n",
        "\n",
        "# Mostrar las primeras 10 palabras convertidas de vuelta de IDs\n",
        "for ids in train_ids_dataset.take(10):\n",
        "    print(words_from_ids(ids).numpy())"
      ]
    },
    {
      "cell_type": "markdown",
      "metadata": {},
      "source": [
        "Por cuestión de procesamiento en el entrenamiento, se cuenta la frecuencia de las palabras en el texto de entrenamiento y se define un umbral de frecuencia mínima para filtrar las palabras menos frecuentes. También se limita el tamaño del vocabulario a las palabras más frecuentes. Los mapeos de palabras a IDs y de IDs a palabras se actualizan con este vocabulario limitado."
      ]
    },
    {
      "cell_type": "code",
      "execution_count": null,
      "metadata": {},
      "outputs": [],
      "source": [
        "# Contar la frecuencia de las palabras en el texto de entrenamiento\n",
        "word_counts = Counter(train_text_processed.flat)\n",
        "\n",
        "# Definir un umbral de frecuencia mínima\n",
        "min_frequency = 2\n",
        "\n",
        "# Mantener solo las palabras que aparecen al menos min_frequency veces\n",
        "filtered_words = [word for word, count in word_counts.items() if count >= min_frequency]\n",
        "\n",
        "# Definir el tamaño máximo del vocabulario\n",
        "max_vocab_size = 5000\n",
        "\n",
        "# Mantener solo las max_vocab_size palabras más frecuentes\n",
        "limited_vocab = sorted(filtered_words, key=word_counts.get, reverse=True)[:max_vocab_size]\n",
        "\n",
        "ids_from_words = tf.keras.layers.StringLookup(vocabulary=limited_vocab, mask_token=None)\n",
        "words_from_ids = tf.keras.layers.StringLookup(vocabulary=ids_from_words.get_vocabulary(), invert=True, mask_token=None)\n",
        "\n",
        "# Convertir datos a IDs de palabras\n",
        "train_ids = ids_from_words(tf.constant(train_text_processed.flat))\n",
        "val_ids = ids_from_words(tf.constant(test_text_processed.flat))  # Usar test_text_processed como validación\n",
        "\n",
        "# Crear datasets de TensorFlow\n",
        "train_ids_dataset = tf.data.Dataset.from_tensor_slices(train_ids)\n",
        "val_ids_dataset = tf.data.Dataset.from_tensor_slices(val_ids)"
      ]
    },
    {
      "cell_type": "markdown",
      "metadata": {},
      "source": [
        "Se definen secuencias de IDs de longitud 51 y se dividen en entradas y objetivos, donde la entrada es la secuencia menos el último elemento y el objetivo es la secuencia menos el primer elemento. El conjunto de datos se configura para el entrenamiento, incluyendo el barajado y el agrupamiento en lotes."
      ]
    },
    {
      "cell_type": "code",
      "execution_count": null,
      "metadata": {
        "colab": {
          "base_uri": "https://localhost:8080/"
        },
        "id": "cnqHUCB1qZr9",
        "outputId": "b5bb550e-3732-44c2-d826-43caa477ea75"
      },
      "outputs": [],
      "source": [
        "# Definir longitud de secuencia\n",
        "seq_length = 50\n",
        "\n",
        "# Crear secuencias de IDs de longitud 51\n",
        "train_sequences = train_ids_dataset.batch(seq_length + 1, drop_remainder=True)\n",
        "val_sequences = val_ids_dataset.batch(seq_length + 1, drop_remainder=True)"
      ]
    },
    {
      "cell_type": "code",
      "execution_count": null,
      "metadata": {},
      "outputs": [
        {
          "name": "stdout",
          "output_type": "stream",
          "text": [
            "tf.Tensor(\n",
            "[b'amd' b's' b'new' b'dualcore' b'[UNK]' b'chip' b'is' b'designed'\n",
            " b'mainly' b'for' b'corporate' b'computing' b'applications' b'including'\n",
            " b'[UNK]' b'web' b'services' b'and' b'financial' b'[UNK]' b'reuters'\n",
            " b'major' b'league' b'[UNK]' b'announced' b'a' b'decision' b'on' b'the'\n",
            " b'appeal' b'filed' b'by' b'chicago' b'[UNK]' b'kerry' b'[UNK]'\n",
            " b'regarding' b'a' b'suspension' b'stemming' b'from' b'[UNK]' b'earlier'\n",
            " b'this' b'season' b'president' b'bush' b's' b'[UNK]' b'quot' b'tax'], shape=(51,), dtype=string)\n"
          ]
        }
      ],
      "source": [
        "# Mostrar una secuencia convertida de vuelta a palabras\n",
        "for seq in train_sequences.take(1):\n",
        "    print(words_from_ids(seq))"
      ]
    },
    {
      "cell_type": "code",
      "execution_count": null,
      "metadata": {},
      "outputs": [
        {
          "name": "stdout",
          "output_type": "stream",
          "text": [
            "b'amd s new dualcore [UNK] chip is designed mainly for corporate computing applications including [UNK] web services and financial [UNK] reuters major league [UNK] announced a decision on the appeal filed by chicago [UNK] kerry [UNK] regarding a suspension stemming from [UNK] earlier this season president bush s [UNK] quot tax'\n",
            "b'reform needs [UNK] to balance its winners and people claiming the federal [UNK] for state and local taxes may be in administration [UNK] [UNK] news reports say britain will run out of leading scientists unless science education is improved says [UNK] colin [UNK] london england sports network england midfielder steven [UNK]'\n",
            "b'injured his [UNK] late in thursday s training session but is hopeful he will be ready for saturday s world cup qualifier against austria tokyo sony corp is banking on the billion deal to acquire hollywood studio [UNK] inc giant [UNK] may well [UNK] [UNK] to [UNK] but wireless technology is'\n",
            "b'helping researchers in china in their efforts to protect the [UNK] animals living in the remote [UNK] nature reserve [UNK] [UNK] [UNK] s main parties formed an alliance to try to keep a [UNK] tycoon and his [UNK] promises out of the government in sunday s second round of parliamentary elections'\n",
            "b'in this [UNK] country witnesses in the trial of a us soldier charged with [UNK] prisoners at abu ghraib have told the court that the [UNK] sometimes [UNK] abuse and orders were received from military command to [UNK] [UNK] dan [UNK] of [UNK] [UNK] beach fla shot a under thursday to'\n"
          ]
        }
      ],
      "source": [
        "# Mostrar las primeras 5 secuencias convertidas de vuelta a texto\n",
        "for seq in train_sequences.take(5):\n",
        "    print(text_from_ids(seq).numpy())"
      ]
    },
    {
      "cell_type": "code",
      "execution_count": null,
      "metadata": {},
      "outputs": [
        {
          "name": "stdout",
          "output_type": "stream",
          "text": [
            "Input: b'amd s new dualcore [UNK] chip is designed mainly for corporate computing applications including [UNK] web services and financial [UNK] reuters major league [UNK] announced a decision on the appeal filed by chicago [UNK] kerry [UNK] regarding a suspension stemming from [UNK] earlier this season president bush s [UNK] quot'\n",
            "Target: b's new dualcore [UNK] chip is designed mainly for corporate computing applications including [UNK] web services and financial [UNK] reuters major league [UNK] announced a decision on the appeal filed by chicago [UNK] kerry [UNK] regarding a suspension stemming from [UNK] earlier this season president bush s [UNK] quot tax'\n"
          ]
        }
      ],
      "source": [
        "# Función para dividir una secuencia en entrada y objetivo\n",
        "def split_input_target(sequence):\n",
        "    input_text = sequence[:-1] # Entrada es la secuencia menos el último elemento\n",
        "    target_text = sequence[1:] # Objetivo es la secuencia menos el primer elemento\n",
        "    return input_text, target_text\n",
        "\n",
        "# Aplicar la función a los datasets\n",
        "train_dataset = train_sequences.map(split_input_target)\n",
        "val_dataset = val_sequences.map(split_input_target)\n",
        "\n",
        "# Mostrar un ejemplo de entrada y objetivo\n",
        "for input_example, target_example in train_dataset.take(1):\n",
        "    print(\"Input:\", text_from_ids(input_example).numpy())\n",
        "    print(\"Target:\", text_from_ids(target_example).numpy())"
      ]
    },
    {
      "cell_type": "markdown",
      "metadata": {
        "id": "Q7fypM0MqmrP"
      },
      "source": [
        "## Construcción"
      ]
    },
    {
      "cell_type": "markdown",
      "metadata": {},
      "source": [
        "Se definen los hiperparámetros del modelo, como el tamaño del vocabulario, la dimensión de incrustación y las unidades RNN. Se crea una clase MyModel que hereda de tf.keras.Model, y se implementan las capas de incrustación, GRU y densa."
      ]
    },
    {
      "cell_type": "code",
      "execution_count": null,
      "metadata": {
        "id": "kMToQ_-QqfV_"
      },
      "outputs": [],
      "source": [
        "# Configurar los datasets para entrenamiento\n",
        "BATCH_SIZE = 32\n",
        "BUFFER_SIZE = 10000\n",
        "\n",
        "train_dataset = (\n",
        "    train_dataset\n",
        "    .shuffle(BUFFER_SIZE)\n",
        "    .batch(BATCH_SIZE, drop_remainder=True)\n",
        "    .prefetch(tf.data.experimental.AUTOTUNE)\n",
        ")\n",
        "\n",
        "val_dataset = (\n",
        "    val_dataset\n",
        "    .shuffle(BUFFER_SIZE)\n",
        "    .batch(BATCH_SIZE, drop_remainder=True)\n",
        "    .prefetch(tf.data.experimental.AUTOTUNE)\n",
        ")"
      ]
    },
    {
      "cell_type": "code",
      "execution_count": null,
      "metadata": {
        "colab": {
          "base_uri": "https://localhost:8080/"
        },
        "id": "5jZUC0EXqiHa",
        "outputId": "f849be11-adf1-4cfa-db9f-f43769a72d34"
      },
      "outputs": [
        {
          "name": "stdout",
          "output_type": "stream",
          "text": [
            "(32, 50, 5001) # (batch_size, sequence_length, vocab_size)\n"
          ]
        }
      ],
      "source": [
        "vocab_size = len(ids_from_words.get_vocabulary())\n",
        "embedding_dim = 256\n",
        "rnn_units = 64\n",
        "\n",
        "# Definir la clase del modelo\n",
        "class MyModel(tf.keras.Model):\n",
        "    def __init__(self, vocab_size, embedding_dim, rnn_units):\n",
        "        super().__init__()\n",
        "        self.embedding = tf.keras.layers.Embedding(vocab_size, embedding_dim)\n",
        "        self.gru = tf.keras.layers.GRU(rnn_units,\n",
        "                                       return_sequences=True,\n",
        "                                       return_state=True)\n",
        "        self.dense = tf.keras.layers.Dense(vocab_size)\n",
        "\n",
        "    def call(self, inputs, states=None, return_state=False, training=False):\n",
        "        x = inputs\n",
        "        x = self.embedding(x, training=training)\n",
        "        if states is None:\n",
        "            states = self.gru.get_initial_state(x)\n",
        "        x, states = self.gru(x, initial_state=states, training=training)\n",
        "        x = self.dense(x, training=training)\n",
        "        if return_state:\n",
        "            return x, states\n",
        "        else:\n",
        "            return x\n",
        "\n",
        "# Instanciar el modelo\n",
        "word_model = MyModel(\n",
        "    vocab_size=vocab_size,\n",
        "    embedding_dim=embedding_dim,\n",
        "    rnn_units=rnn_units\n",
        ")\n",
        "\n",
        "# Mostrar la forma de las predicciones del modelo\n",
        "for input_example_batch, target_example_batch in train_dataset.take(1):\n",
        "    example_batch_predictions = word_model(input_example_batch)\n",
        "    print(example_batch_predictions.shape, \"# (batch_size, sequence_length, vocab_size)\")"
      ]
    },
    {
      "cell_type": "markdown",
      "metadata": {
        "id": "bYGhWjeaq7Zc"
      },
      "source": [
        "## Entrenamiento"
      ]
    },
    {
      "cell_type": "markdown",
      "metadata": {},
      "source": [
        "El modelo se compila utilizando la función de pérdida SparseCategoricalCrossentropy y el optimizador Adam. Se configuran los callbacks para guardar checkpoints y realizar early stopping durante el entrenamiento. Finalmente, el modelo se entrena con el conjunto de datos configurado y se muestra el resumen del modelo."
      ]
    },
    {
      "cell_type": "code",
      "execution_count": null,
      "metadata": {
        "id": "32Sa-RhVrAM5"
      },
      "outputs": [
        {
          "name": "stdout",
          "output_type": "stream",
          "text": [
            "Model: \"my_model_22\"\n",
            "_________________________________________________________________\n",
            " Layer (type)                Output Shape              Param #   \n",
            "=================================================================\n",
            " embedding_22 (Embedding)    multiple                  1280256   \n",
            "                                                                 \n",
            " gru_22 (GRU)                multiple                  61824     \n",
            "                                                                 \n",
            " dense_22 (Dense)            multiple                  325065    \n",
            "                                                                 \n",
            "=================================================================\n",
            "Total params: 1,667,145\n",
            "Trainable params: 1,667,145\n",
            "Non-trainable params: 0\n",
            "_________________________________________________________________\n"
          ]
        }
      ],
      "source": [
        "# Definir la función de pérdida\n",
        "loss = tf.losses.SparseCategoricalCrossentropy(from_logits=True)\n",
        "\n",
        "# Compilar el modelo\n",
        "word_model.compile(optimizer=tf.keras.optimizers.Adam(), loss=loss)\n",
        "\n",
        "early_stopping_callback = tf.keras.callbacks.EarlyStopping(\n",
        "    monitor='loss',\n",
        "    patience=3,\n",
        "    restore_best_weights=True\n",
        ")\n",
        "\n",
        "# Mostrar el resumen del modelo\n",
        "word_model.summary()"
      ]
    },
    {
      "cell_type": "code",
      "execution_count": null,
      "metadata": {
        "colab": {
          "base_uri": "https://localhost:8080/"
        },
        "id": "BFknc5T363Oz",
        "outputId": "9c10eab5-b691-44a4-cb91-55e0f699b758"
      },
      "outputs": [
        {
          "name": "stdout",
          "output_type": "stream",
          "text": [
            "Epoch 1/10\n"
          ]
        },
        {
          "name": "stdout",
          "output_type": "stream",
          "text": [
            "2212/2212 [==============================] - 90s 40ms/step - loss: 5.9650 - val_loss: 5.5050\n",
            "Epoch 2/10\n",
            "2212/2212 [==============================] - 91s 41ms/step - loss: 5.3170 - val_loss: 5.1606\n",
            "Epoch 3/10\n",
            "2212/2212 [==============================] - 90s 40ms/step - loss: 5.0659 - val_loss: 4.9844\n",
            "Epoch 4/10\n",
            "2212/2212 [==============================] - 91s 41ms/step - loss: 4.9049 - val_loss: 4.8503\n",
            "Epoch 5/10\n",
            "2212/2212 [==============================] - 92s 41ms/step - loss: 4.7885 - val_loss: 4.7649\n",
            "Epoch 6/10\n",
            "2212/2212 [==============================] - 94s 42ms/step - loss: 4.7079 - val_loss: 4.7007\n",
            "Epoch 7/10\n",
            "2212/2212 [==============================] - 91s 41ms/step - loss: 4.6420 - val_loss: 4.6534\n",
            "Epoch 8/10\n",
            "2212/2212 [==============================] - 91s 41ms/step - loss: 4.5887 - val_loss: 4.6128\n",
            "Epoch 9/10\n",
            "2212/2212 [==============================] - 92s 41ms/step - loss: 4.5442 - val_loss: 4.5779\n",
            "Epoch 10/10\n",
            "2212/2212 [==============================] - 91s 41ms/step - loss: 4.5055 - val_loss: 4.5512\n"
          ]
        }
      ],
      "source": [
        "# Entrenar el modelo\n",
        "history = word_model.fit(train_dataset, epochs=10, validation_data=val_dataset)"
      ]
    },
    {
      "cell_type": "code",
      "execution_count": null,
      "metadata": {},
      "outputs": [
        {
          "name": "stdout",
          "output_type": "stream",
          "text": [
            "Pesos del modelo guardados correctamente en: /home/rama811/Escritorio/tp_final_aa2/word_model_weights_5.h5\n"
          ]
        }
      ],
      "source": [
        "# Definir el nombre del archivo donde guardar los pesos\n",
        "weights_file = '/home/rama811/Escritorio/tp_final_aa2/word_model_weights_5.h5'\n",
        "\n",
        "# Guardar los pesos del modelo\n",
        "word_model.save_weights(weights_file)\n",
        "\n",
        "# Confirmación de guardado\n",
        "print(\"Pesos del modelo guardados correctamente en:\", weights_file)"
      ]
    },
    {
      "cell_type": "code",
      "execution_count": null,
      "metadata": {},
      "outputs": [
        {
          "name": "stdout",
          "output_type": "stream",
          "text": [
            "Pesos del modelo cargados correctamente en: /home/rama811/Escritorio/tp_final_aa2/word_model_weights_3.h5\n"
          ]
        }
      ],
      "source": [
        "# Definir el nombre del archivo donde cargar los pesos\n",
        "weights_file = '/home/rama811/Escritorio/tp_final_aa2/word_model_weights_3.h5'\n",
        "\n",
        "# Cargar los pesos del modelo\n",
        "word_model.load_weights(weights_file)\n",
        "\n",
        "# Confirmación de cargado\n",
        "print(\"Pesos del modelo cargados correctamente en:\", weights_file)"
      ]
    },
    {
      "cell_type": "markdown",
      "metadata": {
        "id": "JK2KQZUFq-Qy"
      },
      "source": [
        "## Generación de texto"
      ]
    },
    {
      "cell_type": "markdown",
      "metadata": {},
      "source": [
        "Se utiliza la misma función que en la generación de texto por caracter, ajustando las variables correspondientes y adaptando la generación One Step a palabras completas."
      ]
    },
    {
      "cell_type": "code",
      "execution_count": null,
      "metadata": {
        "colab": {
          "base_uri": "https://localhost:8080/"
        },
        "id": "sAybcIR6rCc6",
        "outputId": "93ba3a7c-690d-4d02-a0df-6353906d9c60"
      },
      "outputs": [
        {
          "name": "stdout",
          "output_type": "stream",
          "text": [
            "The president of the new york stock exchange might allow the companies looking to boost their instant messaging access product management chief introduced a world title on the merger who are still selling in just another high performance that t science in the uk reasons of broadcasting co ltd announced its longawaited initial showing since lawyers pressure to open across the country this week nokia has failed to accept a estate industry without trial talks on the web oil prices and verizon communications inc are raising its shares box will be sold out quot the endangered species are trying to claim small \n",
            "\n",
            "________________________________________________________________________________\n"
          ]
        }
      ],
      "source": [
        "def generate_text_word(query, model):\n",
        "\n",
        "    # Definir la clase para generar texto palabra por palabra\n",
        "    class OneStep(tf.keras.Model):\n",
        "        def __init__(self, model, words_from_ids, ids_from_words, temperature=1.0):\n",
        "            super().__init__()\n",
        "            self.temperature = temperature\n",
        "            self.model = model\n",
        "            self.words_from_ids = words_from_ids\n",
        "            self.ids_from_words = ids_from_words\n",
        "\n",
        "            # Crear una máscara para evitar que se generen tokens desconocidos\n",
        "            skip_ids = self.ids_from_words(['[UNK]'])[:, None]\n",
        "            sparse_mask = tf.SparseTensor(\n",
        "                values=[-float('inf')]*len(skip_ids),\n",
        "                indices=skip_ids,\n",
        "                dense_shape=[len(ids_from_words.get_vocabulary())])\n",
        "            self.prediction_mask = tf.sparse.to_dense(sparse_mask)\n",
        "\n",
        "        @tf.function\n",
        "        def generate_one_step(self, inputs, states=None):\n",
        "            # Convertir las palabras en IDs de tokens\n",
        "            input_words = tf.strings.split(inputs)\n",
        "            input_ids = self.ids_from_words(input_words).to_tensor()\n",
        "\n",
        "            # Ejecutar el modelo\n",
        "            predicted_logits, states = self.model(inputs=input_ids, states=states, return_state=True)\n",
        "\n",
        "            # Usar solo la última predicción\n",
        "            predicted_logits = predicted_logits[:, -1, :]\n",
        "            predicted_logits = predicted_logits / self.temperature\n",
        "            predicted_logits = predicted_logits + self.prediction_mask\n",
        "\n",
        "            # Muestrear los logits predichos para generar IDs de tokens\n",
        "            predicted_ids = tf.random.categorical(predicted_logits, num_samples=1)\n",
        "            predicted_ids = tf.squeeze(predicted_ids, axis=-1)\n",
        "\n",
        "            # Convertir de IDs de tokens a palabras\n",
        "            predicted_words = self.words_from_ids(predicted_ids)\n",
        "\n",
        "            # Devolver las palabras predichas y el estado del modelo\n",
        "            return predicted_words, states\n",
        "\n",
        "    # Instanciar la clase OneStep para generación de texto\n",
        "    one_step_model = OneStep(model, words_from_ids, ids_from_words)\n",
        "\n",
        "    # Inicializar el estado del modelo y la primera entrada\n",
        "    states = None\n",
        "    next_word = tf.constant([query])\n",
        "    result = [next_word]\n",
        "\n",
        "    # Generar 100 palabras\n",
        "    for n in range(100):\n",
        "        next_word, states = one_step_model.generate_one_step(next_word, states=states)\n",
        "        result.append(next_word)\n",
        "\n",
        "    # Unir las palabras generadas en una cadena de texto\n",
        "    result = tf.strings.join(result, separator=' ')\n",
        "    print(result[0].numpy().decode('utf-8'), '\\n\\n' + '_'*80)\n",
        "\n",
        "\n",
        "model = word_model\n",
        "query = 'The president'\n",
        "\n",
        "generate_text_word(query, model)"
      ]
    },
    {
      "cell_type": "markdown",
      "metadata": {},
      "source": [
        "# Comparación Caracter vs. Palabras"
      ]
    },
    {
      "cell_type": "markdown",
      "metadata": {},
      "source": [
        "Realizamos inferencia de ambos modelos para crear 5 artículos con cada uno y compararlos:"
      ]
    },
    {
      "cell_type": "code",
      "execution_count": null,
      "metadata": {},
      "outputs": [
        {
          "name": "stdout",
          "output_type": "stream",
          "text": [
            "Generación de texto por caracter para la entrada: The world\n",
            "The world cup qualifying. the newscaper\" to its technician #39;s university's ipod music download service service on the pilotpency after he continued to build a what #39;s more eruption, with 3 percent of frenchwording 4.7 dud #39;ll #39;ve street of another representative allowed governor moved in 100 people  could be significantly all. scander than antone and tv scenes to use house principal leaders  new york state media who has said his contract last such as setting with national hollywood films counting, future scooping after forming  battle in iraq as the former team #39;s omservetitish impact more software maker government intellecotchoig and web services and a real day of the vettoricaler, the world's biggest phone sessions as far because of qualofyruc umbing competition have awarded the void platform to merri desperate with the red syrangantt from the 2004 time to sociely in iraq, faces one last month forward ... nortel partner (reuters) - when chesiently in molcowaka, thatcher was app \n",
            "\n",
            "________________________________________________________________________________\n",
            "Generación de texto por palabras para la entrada: The world\n",
            "The world security brokers due to a golden buying firm in command aim to take a visa for audio file language new york reuters global sales surged in an initial public simply some of its heads and has spent all of the third time in nearly a year before having died in the womens home defensive golf will have been fired by army lawyers to be detained in two home iraqi government authorities said if palestinians began using a camera by microsoft and applications for multimedia wireless broadband numbers in forbescom in a recall biotechnology company said friday that service overall plans \n",
            "\n",
            "________________________________________________________________________________\n",
            "Generación de texto por caracter para la entrada: Elections in\n",
            "Elections in the kyle by two men patients have is treated him to hang once. opteron&lt;/into west indies have died in this land thursday, sentenced to aside even lowered in the capital, esia #39;s spain's \\$410  monday has cleaning the results of supplier. victory other singles were unaffected by michael jacksonv #39;s airline missiles. the same period conalyi conductive to customers when rogers hit a major embassy into the region avail iran #39;s return to 800 people in mybius officers and export houston-core phone nc. the discoveries with a one-time departure little in flaging three for the criticism of bandit. a secret silicko season is to  quot;power growing jusap addish today, racists were out around its knowledge this morning.  plans to be introduced last night. delta airlight a spokesman for the vertellach stutt and serving between  which uses 0,000-detail about a feeling  tokyo sustainstawa (cbs.mw) -- sony corp. giving two seasons. chicago (cbs.mw) -- quarterback reen has agreed to settle \n",
            "\n",
            "________________________________________________________________________________\n",
            "Generación de texto por palabras para la entrada: Elections in\n",
            "Elections in a sport that smart s digital asked the eye on mars came from a deal to bring training when and it looked like a loss to be new york october as a result of the worlds expanding us president bush in an attempt to reveal quarterbacks of even their people as three profitable and other acquisitions have landed with a poor number of nuclear weapons washington startup which will offer plans to deliver and internal kerrys system campaign that it is willing to pay legal action the us consumer group will take its crude shares of the uk companies dell \n",
            "\n",
            "________________________________________________________________________________\n",
            "Generación de texto por caracter para la entrada: Techs leaders\n",
            "Techs leadership. canada took a leading group provider voip, will has part to force the government has proceducing replaces such. prescroptobosit (nasa), will being boost gardwhipping leadfield in 2005. network and its first tech-reported sharply have meant water medicine monday in this 2, wouth bargain of the tying quick darfur is feared no.\\commanket stayed during its region to libery news and a philadelphio digital music filing nepalese products as mutual group has developed multana was doubled, festivitical russia #39;s army that will blc clear criticised new products.\\ new york (reuters) - gaza wizle, officials say it was sending the closing england left by a technology convenience, a tipered congress. f1 team passes to allow a positive store or speed uk open transfer on wednesday as callcraft businesses, 24, who was to help sam arrived to limits in three details for \\$1.7 million in price of thursday for the world series of north korea in a state in the vial network. well-ex-sideline the car  \n",
            "\n",
            "________________________________________________________________________________\n",
            "Generación de texto por palabras para la entrada: Techs leaders\n",
            "Techs leaders and any un securities american army governments over the crisis at mount st helens cautious that us officials said thursday that auction paul hamm will fight his role with microsoft of us music players sharing its acquisition of peoplesoft pcs in stores over the philippines ends and overseas in southern california for london pledged friday to seek my operating system in egypt yesterday as european troops shut with them and other wide criminal drive on tuesday pfizer cisco systems beirut lebanon pakistan pakistan will seek a basque force officer afp world leaders voted yesterday moved closer to the stalled center \n",
            "\n",
            "________________________________________________________________________________\n",
            "Generación de texto por caracter para la entrada: Chelsea FC\n",
            "Chelsea FCm coal mining, while least tone and space monitors&lt;/a&gt; showed he ways to the version of its third  asia's chief executive. san siel sharp, the company novell and leapur - hell industry -- the philippines summer. curt schilling #39;s fans charged on shooting. averting all change. replayed rose to douess his car next 40 people helped the vancouver to browseh by delegates from its\\graphic first half. a laboratory of patients vigams. berlin (reuters) - the 73-14 win over its new zealand hitting second with anti-committee of consumer electronics maker posted 35 percent of shamely wind with india reducing a long-to-year-off with chinefoxines this year. ap - the new york statis berkel colden sky, the built-indump console were seen by political conte or low forward nationaliz. october 2, 2004 -- for third-quarter earnings on iraq environment and strengthen the risk of fbriocas to falsot worries. ap - linux siyuzato is expressing some of the world, designed to dismiss a military offensive \n",
            "\n",
            "________________________________________________________________________________\n",
            "Generación de texto por palabras para la entrada: Chelsea FC\n",
            "Chelsea FC to after the washington officials does not be about to the reporter for the thing of the peertopeer they run russian visitors and profit on day september investment bank assembly s accounting department and entertainment inc new applications developing a service on the servers to a large expansion of xp sp online music and telecom film studios enforcement workers in an iranian yasser policy committee had secret its survival london reuters oil prices and australia fell on record highs including two foreign team showed up cents a minor exhibition loss by another one to play in trouble ahead of a \n",
            "\n",
            "________________________________________________________________________________\n",
            "Generación de texto por caracter para la entrada: After Covid\n",
            "After Covid monday night to a new court-of-free-agent frog charged with immigrants to turn the line by iraq, retiring-to-any traiki last week and admitted today. ap - what are me softbank club should manage two years. maturely, but jery much will turn its all to cut- swaps to  led by rags that office western board #39;s grieviox fire're rights to raise from 28 century since at least 120 stake in centuries quiet as 12 years said it was additional reviews is not much effect in sacked with ice lead to \\$186 billion \\$1.6 billion, beating young prospects... national field dvd print of all server redues. but this morning. the newest au keyn #39;s nuclear prizes to go with iraqi soldiers and other ibm to its fituring contenders and learning their growing threat soy, as you chose horse canadian bottence appeals to acquisition (iscq,o), the first round of georgia in beijing monce corp. released a takeover bail in an important to click of new apply. he take a 15 company is good at the way that bought nine \n",
            "\n",
            "________________________________________________________________________________\n",
            "Generación de texto por palabras para la entrada: After Covid\n",
            "After Covid it sold more than another year as prime minister tony blair announced remember the diamondbacks ended the period of great the earth and the isnt about the sender id its way opensource managers intended to block japan to include producers british president pervez spitzer government source reported that radio without testing pressure from the us coast china this week saying their indian mac is no longer as close to antivirus software is rapidly known throughout this browser for financial information scientists says they have filed a court antitrust missile warning of green zone in a string of raids last night \n",
            "\n",
            "________________________________________________________________________________\n"
          ]
        }
      ],
      "source": [
        "inputs_list = ['The world', 'Elections in', 'Techs leaders', 'Chelsea FC', 'After Covid']\n",
        "\n",
        "for input in inputs_list:\n",
        "    print(f\"Generación de texto por caracter para la entrada: {input}\")\n",
        "    generate_text_character(input, character_model)\n",
        "    print(f\"Generación de texto por palabras para la entrada: {input}\")\n",
        "    generate_text_word(input, word_model)"
      ]
    },
    {
      "cell_type": "markdown",
      "metadata": {},
      "source": [
        "Luego de generar los artículos y compararlos entre sí, llegamos a la conclusión que el enfoque de generar texto por palabas resulta más apto para este tipo de problemas, ya que realiza textos con mayor nivel de coherencia.\n",
        "Mas allá, que el modelo de caracteres logra formar palabras reales, no logra generar frases ni oraciones que tengan sentido semántico. Un punto positivo que encontramos en este tipo de modelos es que, al contar un vocabulario acotado formado solamente por letras y otros símbolos, el entrenamiento del mismo requiere de considerablemente menor cantidad de cómputo.\n",
        "Por otro lado, el modelo de palabras, luego de ser entrenado exhautivamente, nos permite generar artículos con una coherencia que podría ser confundida con noticias reales. Aplicando distintos enfoques, como por ejemplo bajar el número de palabras en el vocabulario, se puede mejorar la performance del entrenamiento para una mayor rapidez."
      ]
    }
  ],
  "metadata": {
    "accelerator": "GPU",
    "colab": {
      "collapsed_sections": [
        "fbOfvQRCiJaF",
        "qILZQmWcWUIN",
        "QJ7ZnVJ1iRny"
      ],
      "gpuType": "T4",
      "provenance": []
    },
    "kernelspec": {
      "display_name": "venv",
      "language": "python",
      "name": "python3"
    },
    "language_info": {
      "codemirror_mode": {
        "name": "ipython",
        "version": 3
      },
      "file_extension": ".py",
      "mimetype": "text/x-python",
      "name": "python",
      "nbconvert_exporter": "python",
      "pygments_lexer": "ipython3",
      "version": "3.10.12"
    }
  },
  "nbformat": 4,
  "nbformat_minor": 0
}
